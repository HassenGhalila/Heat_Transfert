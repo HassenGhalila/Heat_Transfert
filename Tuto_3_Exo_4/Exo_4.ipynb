{
 "cells": [
  {
   "cell_type": "markdown",
   "metadata": {},
   "source": [
    "# <div align=\"center\">Heat transfert\n",
    "\n",
    "<div align=\"center\">\n",
    "<B>Hassen Ghalila</B> (email: hassen.ghalila@devinci.fr), Pôle Leonard de Vinci<BR>    \n",
    "Date: <B>2023</B>\n",
    "</div>\n",
    "\n",
    "### <div align=\"center\">Tutorial 3\n",
    "<div align=\"center\">Exercice 4</div>"
   ]
  },
  {
   "cell_type": "markdown",
   "metadata": {},
   "source": [
    "<B><I>Statment exo4</I></B><br>\n",
    "Exhaust gases from a wire processing oven are discharged into a tall stack, and the gas and stack surface temperatures at the outlet of the stack must be estimated. Knowledge of the outlet gas temperature $T_{m,o}$ is useful for predicting the dispersion of effluents in the thermal plume, while knowledge of the outlet stack surface temperature $T_{s,o}$ indicates whether condensation of the gas products will occur. The thin-walled, cylindrical stack is 0.5 m in diameter and 6.0 m high. The exhaust gas flow rate is 0.5 $kg.s^{−1}$ , and the inlet temperature is 600°C."
   ]
  },
  {
   "cell_type": "markdown",
   "metadata": {},
   "source": [
    "<B><I>Factory</I></B><br>\n",
    "\n",
    "<img src=\"Factory.png\" align=\"center\" width=300>"
   ]
  },
  {
   "cell_type": "markdown",
   "metadata": {},
   "source": [
    "Consider conditions for which the ambient air temperature and wind velocity are 4°C and $5 m.s^{−1}$, respectively. Approximating the thermophysical properties of the gas as those of atmospheric air, estimate the outlet gas and stack surface temperatures for the given conditions."
   ]
  },
  {
   "cell_type": "markdown",
   "metadata": {},
   "source": [
    "<B><I>Input_Coeff.txt</I></B><br>\n",
    "<img src=\"Data_Exo4.png\" align=\"left\" width=500>"
   ]
  },
  {
   "cell_type": "code",
   "execution_count": 12,
   "metadata": {},
   "outputs": [],
   "source": [
    "import numpy as np\n",
    "def Affect():\n",
    "    global Visc,Pran_f,Pran_s,Body_f,Cond_f,N_Body_f\n",
    "    global Vis_fi,Cp_fi,Cond_fi,Pran_fi,Body_fi,N_Body_fi\n",
    "    global xmin,Diam_1,Diam_2,C1,m1,C2,m2,Length\n",
    "    global u,u_inf,T_fl,T_s,T_fin,T_mo,T_mi\n",
    "    global npt,Correl,Geom,Gas_FR\n",
    "        \n",
    "    Re = 5.E+5\n",
    "    f = open('Data_Exo4.txt', 'r') # lire le fichier\n",
    "\n",
    "    line=f.readline()\n",
    "    while line[0]==\"#\":\n",
    "        line=f.readline()    \n",
    "    \n",
    "    npt   = int(line.split(':')[0])\n",
    "    Sym  = f.readline().split(':')[0]\n",
    "    xmin  = float(f.readline().split(':')[0])*1E+0\n",
    "    Diam_1  = float(f.readline().split(':')[0])*1E+0\n",
    "    Length  = float(f.readline().split(':')[0])*1E+0\n",
    "    Diam_2  = 30.E-6\n",
    "    s = f.readline().split()\n",
    "    C1,m1 = float(s[0]),float(s[1])\n",
    "    s = f.readline().split()\n",
    "    C2,m2 = float(s[0]),float(s[1])\n",
    "    Geom = int(f.readline().split(':')[0])\n",
    "    \n",
    "    f.readline()\n",
    "    T_fl   = float(f.readline().split(':')[0])\n",
    "    T_s    = float(f.readline().split(':')[0])\n",
    "    T_mi   = float(f.readline().split(':')[0])\n",
    "    T_mo   = float(f.readline().split(':')[0])\n",
    "    Pres   = float(f.readline().split(':')[0])\n",
    "    u_inf  = float(f.readline().split(':')[0])*1E+0\n",
    "    u_min  = float(f.readline().split(':')[0])*1E+0\n",
    "    u_max  = float(f.readline().split(':')[0])*1E+0\n",
    "    Gas_FR = float(f.readline().split(':')[0])*1E+0\n",
    "    Correl = int(f.readline().split(':')[0])\n",
    "    \n",
    "    u = np.linspace(u_min,u_max,npt)\n",
    "\n",
    "    line=f.readline()    \n",
    "    Visc   = []\n",
    "    Cond_f = []\n",
    "    Pran_f = []\n",
    "    Body_f = []\n",
    "    Cp_fi   = []\n",
    "    Vis_fi  = []\n",
    "    Cond_fi = []\n",
    "    Pran_fi = []\n",
    "    Body_fi = []\n",
    "    s = f.readline().split()\n",
    "    Visc.append(float(s[0])*1.E-6)\n",
    "    Cond_f.append(float(s[1]))\n",
    "    Pran_f.append(float(s[2]))\n",
    "    Body_f.append(s[4])\n",
    "    line=f.readline()\n",
    "    N_Body_f =1\n",
    "    while True:\n",
    "        s = line.split()\n",
    "        if s[0][0]=='#': break\n",
    "        Visc.append(float(s[0])*1.E-6)\n",
    "        Cond_f.append(float(s[1]))\n",
    "        Pran_f.append(float(s[2]))\n",
    "        Body_f.append(s[4])\n",
    "        N_Body_f += 1\n",
    "        line=f.readline()\n",
    "        if not line: break\n",
    "    line=f.readline()\n",
    "    N_Body_fi =0\n",
    "    while True:\n",
    "        s = line.split()\n",
    "        if s[0][0]=='#': break\n",
    "        Cp_fi.append(float(s[0]))\n",
    "        Vis_fi.append(float(s[1])*1.E-7)\n",
    "        Cond_fi.append(float(s[2]))\n",
    "        Pran_fi.append(float(s[3]))\n",
    "        Body_fi.append(s[5])\n",
    "        N_Body_fi += 1\n",
    "        line=f.readline()\n",
    "        if not line: break\n",
    "    f.close() "
   ]
  },
  {
   "cell_type": "code",
   "execution_count": 13,
   "metadata": {},
   "outputs": [],
   "source": [
    "Affect()"
   ]
  },
  {
   "cell_type": "markdown",
   "metadata": {},
   "source": [
    "## 1) Calculating $T_{m,o}$ from Eq. (2.57) \n",
    "\n",
    "$\n",
    "\\large\n",
    "\\begin{equation}\n",
    "\\frac{T_{∞} - T_{m,o}}{T_{∞} - T_{m,i}} = exp^{- \\frac{1}{\\dot{m}c_{p}R_{tot}}} \n",
    "\\hspace{2cm} with \\hspace{2cm}\n",
    "R_{tot} = \\frac{1}{h_{i}} + \\frac{1}{h_{o}}\n",
    "\\label{Rate_Eq} \\tag{1}\n",
    "\\end{equation}\n",
    "$"
   ]
  },
  {
   "cell_type": "markdown",
   "metadata": {},
   "source": [
    "### Internal flow :\n",
    "\n",
    "$\n",
    "\\begin{equation}\n",
    "Reynolds~number~(Eq~(2.38)):\\hspace{1cm} Re_{D} = \\frac{4\\dot{m}}{\\pi D\\mu} = 33827\n",
    "\\end{equation}\n",
    "$\n",
    "\n",
    "=> The flow of the internal fluide is trubulent\n",
    "\n",
    "We can use the **Dittus-Boelter** for cooling Eq. (2.62) \n",
    "\n",
    "$\n",
    "\\begin{equation}\n",
    "Nu_{D} = 0,023Re_{D}^{4/5}Pr^{0,3} =87,273\n",
    "\\label{Nusselt_nu_Int} \\tag{2}\n",
    "\\end{equation}\n",
    "$\n",
    "\n",
    "<BR><div align=\"center\"> => $h_{i} = 10,2 W/m^{2}/K$ </div>"
   ]
  },
  {
   "cell_type": "code",
   "execution_count": 14,
   "metadata": {},
   "outputs": [],
   "source": [
    "def Dittus_Boelter():\n",
    "    global Re_Di,h_bari,Nu_Di\n",
    "    Re_Di  = np.zeros((N_Body_fi))\n",
    "    Nu_Di  = np.zeros((N_Body_fi))\n",
    "    h_bari = np.zeros((N_Body_fi))\n",
    "    for i in range(N_Body_f):\n",
    "        Re_Di[i] = 4*Gas_FR/np.pi/Diam_1/Vis_fi[i]\n",
    "        Nu_Di[i] = 0.023*Re_Di[i]**(4./5.)*Pran_fi[i]**0.3\n",
    "        h_bari[i] = Cond_fi[i]*Nu_Di[i]/Diam_1"
   ]
  },
  {
   "cell_type": "code",
   "execution_count": 16,
   "metadata": {},
   "outputs": [],
   "source": [
    "Dittus_Boelter()"
   ]
  },
  {
   "cell_type": "markdown",
   "metadata": {},
   "source": [
    "### External flow\n",
    "\n",
    "$\n",
    "\\begin{equation}\n",
    "Reynolds~number~(Eq~(2.34)):\\hspace{1cm} Re_{D} = \\frac{VD}{\\nu} = 94660\n",
    "\\end{equation}\n",
    "$\n",
    "\n",
    "=> The flow of the external fluide is trubulent\n",
    "\n",
    "We can use the **Churchill Bernstein** for cooling Eq. (2.36) \n",
    "\n",
    "$\n",
    "\\begin{equation}\n",
    "Nu_{D} = \\left(0,60 + \\frac{0,387Ra_{D}^{1/6}}{\\left[1+\\left(0,559/4,16\\right)^{9/16}\\right]^{8/27}}\\right)^{2}     = 205,22 \n",
    "\\label{Nusselt_nu_Ext} \n",
    " \\tag{3}\n",
    "\\end{equation}\n",
    "$\n",
    "\n",
    "<BR><div align=\"center\"> => $h_{o} = 13,9 W/m^{2}/K$ </div>"
   ]
  },
  {
   "cell_type": "code",
   "execution_count": 17,
   "metadata": {},
   "outputs": [],
   "source": [
    "def Churchill_Bernstein():\n",
    "    global Re_D,Nu_D,h_bar,q_dot\n",
    "    \n",
    "    Re_D  = np.zeros((N_Body_f))\n",
    "    Nu_D  = np.zeros((N_Body_f))\n",
    "    h_bar = np.zeros((N_Body_f))\n",
    "#    q_dot = np.zeros((N_Body))\n",
    "    for i in range(N_Body_f):\n",
    "        Re_D[i] = u_inf*Diam_1/Visc[i]\n",
    "        Nu_D[i] = 0.3 + (0.62*np.sqrt(Re_D[i])*Pran_f[i]**(1/3))/(1+(0.4/Pran_f[i])**(2/3))**0.25*(1+(Re_D[i]/282000)**(5/8))**(4/5)\n",
    "        h_bar[i]  = Cond_f[i]*Nu_D[i]/Diam_1\n",
    "#        q_dot[i] = h_bar[i]*np.pi*Diam_1*(T_s - T_fl)"
   ]
  },
  {
   "cell_type": "code",
   "execution_count": 18,
   "metadata": {},
   "outputs": [],
   "source": [
    "Churchill_Bernstein()"
   ]
  },
  {
   "cell_type": "markdown",
   "metadata": {},
   "source": [
    "## 2) Deducing $T_{s,o}$ under the assumption of steady state\n",
    "\n",
    "$\n",
    "h_{i}(T_{m,o} - T_{s,o}) = h_{o}(T_{s,o} - T_{∞})\n",
    "$\n",
    "\n",
    "<br>=> $T_{s,o} = 232 °C$\n"
   ]
  },
  {
   "cell_type": "code",
   "execution_count": 19,
   "metadata": {},
   "outputs": [],
   "source": [
    "Rtot = (1/h_bari[0] + 1/h_bar[0])/Length/(np.pi*Diam_1)\n",
    "T_mo = T_fl - (T_fl - T_mi)*np.exp(-1./(Gas_FR*Cp_fi[0]*Rtot))\n",
    "T_so = (h_bari[0]*T_mo + h_bar[0]*T_fl)/(h_bari[0]+h_bar[0])"
   ]
  },
  {
   "cell_type": "code",
   "execution_count": 20,
   "metadata": {},
   "outputs": [],
   "source": [
    "\n",
    "def Sorties():\n",
    "    f = open(\"MyOutPut.txt\",\"w\")\n",
    "    print('\\n-----------------------------------------------')\n",
    "    print(\"Results wrote also in the file : \",f.name)\n",
    "    print('-------------------------------------------------')\n",
    "\n",
    "    \n",
    "    print('\\n----- Results for internal fluide ----------')     \n",
    "    f.write('\\n----- Results for internal fluide ---------- \\n')     \n",
    "    Output_txt='{0: <10}'.format('Material')+'{0: <13}'.format('  Re_D') \\\n",
    "              +'{0: <10}'.format('Nu_u')+'{0: <14}'.format('h_bar(W/m2/K)')\n",
    "    print(Output_txt)     \n",
    "    f.write(Output_txt+'\\n')\n",
    "    MyString=3*'{:6.4e}  '\n",
    "    for i in range(N_Body_f):  \n",
    "        print(f'{Body_fi[i]:10}', 3*'%6.4e  ' %(Re_Di[i],Nu_Di[i],h_bari[i]))\n",
    "        f.write('{:6} : '.format(Body_fi[i]) + MyString.format(Re_Di[i],Nu_Di[i],h_bari[i])+'\\n')\n",
    "\n",
    "    print('\\n----- Results for external fluide ----------')     \n",
    "    f.write('\\n----- Results for external fluide ---------- \\n')     \n",
    "    Output_txt='{0: <10}'.format('Material')+'{0: <13}'.format('  Re_D') \\\n",
    "              +'{0: <10}'.format('Nu_u')+'{0: <14}'.format('h_bar(W/m2/K)')\n",
    "    print(Output_txt)     \n",
    "    f.write(Output_txt+'\\n')\n",
    "    MyString=3*'{:6.4e}  '\n",
    "    for i in range(N_Body_f):  \n",
    "        print(f'{Body_f[i]:10}', 3*'%6.4e  ' %(Re_D[i],Nu_D[i],h_bar[i]))\n",
    "        f.write('{:6} : '.format(Body_f[i]) + MyString.format(Re_D[i],Nu_D[i],h_bar[i])+'\\n')\n",
    "\n",
    "    MyString=2*'{:6.4e}  '\n",
    "    Output_txt='  {0: <9}'.format('T_mo(°C)')+'  {0: <11}'.format('T_so(°C)')\n",
    "    print('\\n'+Output_txt)     \n",
    "    f.write('\\n'+Output_txt+'\\n')\n",
    "    print(2*'%6.4e  ' %(T_mo-273.15,T_so-273.15))\n",
    "    f.write(MyString.format(T_mo-273.15,T_so-273.15)+'\\n')\n",
    "\n",
    "    f.close()"
   ]
  },
  {
   "cell_type": "code",
   "execution_count": 21,
   "metadata": {},
   "outputs": [
    {
     "name": "stdout",
     "output_type": "stream",
     "text": [
      "\n",
      "-----------------------------------------------\n",
      "Results wrote also in the file :  MyOutPut.txt\n",
      "-------------------------------------------------\n",
      "\n",
      "----- Results for internal fluide ----------\n",
      "Material    Re_D       Nu_u      h_bar(W/m2/K) \n",
      "Air_Tb_mi  3.3827e+04  8.7273e+01  1.0124e+01  \n",
      "\n",
      "----- Results for external fluide ----------\n",
      "Material    Re_D       Nu_u      h_bar(W/m2/K) \n",
      "Air_T_m    9.4661e+04  2.0522e+02  1.3873e+01  \n",
      "\n",
      "  T_mo(°C)   T_so(°C)   \n",
      "5.4332e+02  2.3153e+02  \n"
     ]
    }
   ],
   "source": [
    "Sorties()"
   ]
  },
  {
   "cell_type": "code",
   "execution_count": null,
   "metadata": {},
   "outputs": [],
   "source": []
  },
  {
   "cell_type": "code",
   "execution_count": null,
   "metadata": {},
   "outputs": [],
   "source": []
  }
 ],
 "metadata": {
  "kernelspec": {
   "display_name": "Python 3 (ipykernel)",
   "language": "python",
   "name": "python3"
  },
  "language_info": {
   "codemirror_mode": {
    "name": "ipython",
    "version": 3
   },
   "file_extension": ".py",
   "mimetype": "text/x-python",
   "name": "python",
   "nbconvert_exporter": "python",
   "pygments_lexer": "ipython3",
   "version": "3.11.5"
  }
 },
 "nbformat": 4,
 "nbformat_minor": 2
}
